{
 "cells": [
  {
   "cell_type": "code",
   "execution_count": 1,
   "metadata": {},
   "outputs": [],
   "source": [
    "import pandas as pd\n",
    "from pathlib import Path"
   ]
  },
  {
   "cell_type": "code",
   "execution_count": 2,
   "metadata": {},
   "outputs": [
    {
     "data": {
      "text/plain": [
       "True"
      ]
     },
     "execution_count": 2,
     "metadata": {},
     "output_type": "execute_result"
    }
   ],
   "source": [
    "results_path = Path(\n",
    "    \"/home/buzz/PycharmProjects/ChordSync/ChordSync/baselines/hcdf/results/HCDF_results.csv\"\n",
    ")\n",
    "\n",
    "results_path.exists()"
   ]
  },
  {
   "cell_type": "code",
   "execution_count": 3,
   "metadata": {},
   "outputs": [
    {
     "data": {
      "text/html": [
       "<div>\n",
       "<style scoped>\n",
       "    .dataframe tbody tr th:only-of-type {\n",
       "        vertical-align: middle;\n",
       "    }\n",
       "\n",
       "    .dataframe tbody tr th {\n",
       "        vertical-align: top;\n",
       "    }\n",
       "\n",
       "    .dataframe thead th {\n",
       "        text-align: right;\n",
       "    }\n",
       "</style>\n",
       "<table border=\"1\" class=\"dataframe\">\n",
       "  <thead>\n",
       "    <tr style=\"text-align: right;\">\n",
       "      <th></th>\n",
       "      <th>name</th>\n",
       "      <th>precision</th>\n",
       "      <th>recall</th>\n",
       "      <th>f1_score</th>\n",
       "    </tr>\n",
       "  </thead>\n",
       "  <tbody>\n",
       "    <tr>\n",
       "      <th>0</th>\n",
       "      <td>schubert-winterreise-audio_139</td>\n",
       "      <td>0.248848</td>\n",
       "      <td>0.524272</td>\n",
       "      <td>0.337500</td>\n",
       "    </tr>\n",
       "    <tr>\n",
       "      <th>1</th>\n",
       "      <td>billboard_732</td>\n",
       "      <td>0.253456</td>\n",
       "      <td>0.647059</td>\n",
       "      <td>0.364238</td>\n",
       "    </tr>\n",
       "    <tr>\n",
       "      <th>2</th>\n",
       "      <td>weimar_345</td>\n",
       "      <td>0.031746</td>\n",
       "      <td>0.705882</td>\n",
       "      <td>0.060759</td>\n",
       "    </tr>\n",
       "    <tr>\n",
       "      <th>3</th>\n",
       "      <td>billboard_35</td>\n",
       "      <td>0.427966</td>\n",
       "      <td>0.627329</td>\n",
       "      <td>0.508816</td>\n",
       "    </tr>\n",
       "    <tr>\n",
       "      <th>4</th>\n",
       "      <td>schubert-winterreise-audio_68</td>\n",
       "      <td>0.117647</td>\n",
       "      <td>0.252427</td>\n",
       "      <td>0.160494</td>\n",
       "    </tr>\n",
       "  </tbody>\n",
       "</table>\n",
       "</div>"
      ],
      "text/plain": [
       "                             name  precision    recall  f1_score\n",
       "0  schubert-winterreise-audio_139   0.248848  0.524272  0.337500\n",
       "1                   billboard_732   0.253456  0.647059  0.364238\n",
       "2                      weimar_345   0.031746  0.705882  0.060759\n",
       "3                    billboard_35   0.427966  0.627329  0.508816\n",
       "4   schubert-winterreise-audio_68   0.117647  0.252427  0.160494"
      ]
     },
     "execution_count": 3,
     "metadata": {},
     "output_type": "execute_result"
    }
   ],
   "source": [
    "# import the results\n",
    "results = pd.read_csv(results_path)\n",
    "\n",
    "results.head()"
   ]
  },
  {
   "cell_type": "code",
   "execution_count": 4,
   "metadata": {},
   "outputs": [],
   "source": [
    "# only consider rows where the pc value is above 0.3\n",
    "results = results[results[\"precision\"] > 0.3]"
   ]
  },
  {
   "cell_type": "code",
   "execution_count": 5,
   "metadata": {},
   "outputs": [
    {
     "data": {
      "text/plain": [
       "{'precision': 0.4953, 'recall': 0.6508, 'f1': 0.5323}"
      ]
     },
     "execution_count": 5,
     "metadata": {},
     "output_type": "execute_result"
    }
   ],
   "source": [
    "# get average for pc, mae, aae, pcs, and perceptual\n",
    "means = {\n",
    "    \"precision\": results[\"precision\"].mean().round(4),\n",
    "    \"recall\": results[\"recall\"].mean().round(4),\n",
    "    \"f1\": results[\"f1_score\"].mean().round(4),\n",
    "}\n",
    "\n",
    "means"
   ]
  },
  {
   "cell_type": "code",
   "execution_count": 9,
   "metadata": {},
   "outputs": [],
   "source": [
    "# compute results by genre, by filtering the rows names\n",
    "pop_rock = [\"billboard\", \"isophonics\", \"uspop\", \"casd\"]\n",
    "jazz = [\"weimar\"]\n",
    "classical = [\"schubert\"]\n",
    "\n",
    "# check if any of pop_rock is in the row[0] name\n",
    "pop_rock_results = results[results[\"name\"].str.contains(\"|\".join(pop_rock))]\n",
    "jazz_results = results[results[\"name\"].str.contains(\"|\".join(jazz))]\n",
    "classical_results = results[results[\"name\"].str.contains(\"|\".join(classical))]"
   ]
  },
  {
   "cell_type": "code",
   "execution_count": 10,
   "metadata": {},
   "outputs": [
    {
     "data": {
      "text/plain": [
       "({'precision': 0.4999, 'recall': 0.6334, 'f1': 0.5269},\n",
       " {'precision': 0.4454, 'recall': 0.622, 'f1': 0.5191},\n",
       " {'precision': 0.4911, 'recall': 0.7749, 'f1': 0.5857})"
      ]
     },
     "execution_count": 10,
     "metadata": {},
     "output_type": "execute_result"
    }
   ],
   "source": [
    "# pop_rock_results\n",
    "pop_rock_means = {\n",
    "    \"precision\": pop_rock_results[\"precision\"].mean().round(4),\n",
    "    \"recall\": pop_rock_results[\"recall\"].mean().round(4),\n",
    "    \"f1\": pop_rock_results[\"f1_score\"].mean().round(4),\n",
    "}\n",
    "\n",
    "jazz_means = {\n",
    "    \"precision\": jazz_results[\"precision\"].mean().round(4),\n",
    "    \"recall\": jazz_results[\"recall\"].mean().round(4),\n",
    "    \"f1\": jazz_results[\"f1_score\"].mean().round(4),\n",
    "}\n",
    "\n",
    "classical_means = {\n",
    "    \"precision\": classical_results[\"precision\"].mean().round(4),\n",
    "    \"recall\": classical_results[\"recall\"].mean().round(4),\n",
    "    \"f1\": classical_results[\"f1_score\"].mean().round(4),\n",
    "}\n",
    "\n",
    "pop_rock_means, jazz_means, classical_means"
   ]
  }
 ],
 "metadata": {
  "kernelspec": {
   "display_name": "cordial",
   "language": "python",
   "name": "python3"
  },
  "language_info": {
   "codemirror_mode": {
    "name": "ipython",
    "version": 3
   },
   "file_extension": ".py",
   "mimetype": "text/x-python",
   "name": "python",
   "nbconvert_exporter": "python",
   "pygments_lexer": "ipython3",
   "version": "3.10.13"
  }
 },
 "nbformat": 4,
 "nbformat_minor": 2
}
