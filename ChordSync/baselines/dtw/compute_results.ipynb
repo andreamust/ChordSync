{
 "cells": [
  {
   "cell_type": "code",
   "execution_count": 16,
   "metadata": {},
   "outputs": [],
   "source": [
    "import pandas as pd\n",
    "from pathlib import Path"
   ]
  },
  {
   "cell_type": "code",
   "execution_count": 17,
   "metadata": {},
   "outputs": [
    {
     "data": {
      "text/plain": [
       "True"
      ]
     },
     "execution_count": 17,
     "metadata": {},
     "output_type": "execute_result"
    }
   ],
   "source": [
    "results_path = Path(\"./data/schubert-winterreise/results/schubert_dtw_results-10.csv\")\n",
    "\n",
    "results_path.exists()"
   ]
  },
  {
   "cell_type": "code",
   "execution_count": 18,
   "metadata": {},
   "outputs": [
    {
     "data": {
      "text/html": [
       "<div>\n",
       "<style scoped>\n",
       "    .dataframe tbody tr th:only-of-type {\n",
       "        vertical-align: middle;\n",
       "    }\n",
       "\n",
       "    .dataframe tbody tr th {\n",
       "        vertical-align: top;\n",
       "    }\n",
       "\n",
       "    .dataframe thead th {\n",
       "        text-align: right;\n",
       "    }\n",
       "</style>\n",
       "<table border=\"1\" class=\"dataframe\">\n",
       "  <thead>\n",
       "    <tr style=\"text-align: right;\">\n",
       "      <th></th>\n",
       "      <th>audio_id</th>\n",
       "      <th>score_name</th>\n",
       "      <th>pc</th>\n",
       "      <th>mae</th>\n",
       "      <th>aae</th>\n",
       "      <th>pcs</th>\n",
       "      <th>perceptual</th>\n",
       "    </tr>\n",
       "  </thead>\n",
       "  <tbody>\n",
       "    <tr>\n",
       "      <th>0</th>\n",
       "      <td>schubert-winterreise-audio_22</td>\n",
       "      <td>schubert-winterreise-score_22</td>\n",
       "      <td>0.869565</td>\n",
       "      <td>0.04</td>\n",
       "      <td>0.320000</td>\n",
       "      <td>0.927994</td>\n",
       "      <td>0.821297</td>\n",
       "    </tr>\n",
       "    <tr>\n",
       "      <th>1</th>\n",
       "      <td>schubert-winterreise-audio_46</td>\n",
       "      <td>schubert-winterreise-score_22</td>\n",
       "      <td>0.840580</td>\n",
       "      <td>0.06</td>\n",
       "      <td>0.236812</td>\n",
       "      <td>0.910222</td>\n",
       "      <td>0.772172</td>\n",
       "    </tr>\n",
       "    <tr>\n",
       "      <th>2</th>\n",
       "      <td>schubert-winterreise-audio_70</td>\n",
       "      <td>schubert-winterreise-score_22</td>\n",
       "      <td>0.043478</td>\n",
       "      <td>0.86</td>\n",
       "      <td>1.036812</td>\n",
       "      <td>0.620153</td>\n",
       "      <td>0.048628</td>\n",
       "    </tr>\n",
       "    <tr>\n",
       "      <th>3</th>\n",
       "      <td>schubert-winterreise-audio_94</td>\n",
       "      <td>schubert-winterreise-score_22</td>\n",
       "      <td>0.710145</td>\n",
       "      <td>0.06</td>\n",
       "      <td>0.359420</td>\n",
       "      <td>0.855144</td>\n",
       "      <td>0.628816</td>\n",
       "    </tr>\n",
       "    <tr>\n",
       "      <th>4</th>\n",
       "      <td>schubert-winterreise-audio_118</td>\n",
       "      <td>schubert-winterreise-score_22</td>\n",
       "      <td>0.811594</td>\n",
       "      <td>0.06</td>\n",
       "      <td>0.237101</td>\n",
       "      <td>0.894157</td>\n",
       "      <td>0.721473</td>\n",
       "    </tr>\n",
       "  </tbody>\n",
       "</table>\n",
       "</div>"
      ],
      "text/plain": [
       "                         audio_id                     score_name        pc  \\\n",
       "0   schubert-winterreise-audio_22  schubert-winterreise-score_22  0.869565   \n",
       "1   schubert-winterreise-audio_46  schubert-winterreise-score_22  0.840580   \n",
       "2   schubert-winterreise-audio_70  schubert-winterreise-score_22  0.043478   \n",
       "3   schubert-winterreise-audio_94  schubert-winterreise-score_22  0.710145   \n",
       "4  schubert-winterreise-audio_118  schubert-winterreise-score_22  0.811594   \n",
       "\n",
       "    mae       aae       pcs  perceptual  \n",
       "0  0.04  0.320000  0.927994    0.821297  \n",
       "1  0.06  0.236812  0.910222    0.772172  \n",
       "2  0.86  1.036812  0.620153    0.048628  \n",
       "3  0.06  0.359420  0.855144    0.628816  \n",
       "4  0.06  0.237101  0.894157    0.721473  "
      ]
     },
     "execution_count": 18,
     "metadata": {},
     "output_type": "execute_result"
    }
   ],
   "source": [
    "# import the results\n",
    "results = pd.read_csv(results_path)\n",
    "\n",
    "results.head()"
   ]
  },
  {
   "cell_type": "code",
   "execution_count": 27,
   "metadata": {},
   "outputs": [
    {
     "data": {
      "text/plain": [
       "{'pc': 0.8621, 'mae': 0.0661, 'aae': 0.2088, 'pcs': 0.9, 'perceptual': 0.7895}"
      ]
     },
     "execution_count": 27,
     "metadata": {},
     "output_type": "execute_result"
    }
   ],
   "source": [
    "# get average for pc, mae, aae, pcs, and perceptual\n",
    "means = {\n",
    "    \"pc\": results[\"pc\"].mean().round(4),\n",
    "    \"mae\": results[\"mae\"].mean().round(4),\n",
    "    \"aae\": results[\"aae\"].mean().round(4),\n",
    "    \"pcs\": results[\"pcs\"].mean().round(4),\n",
    "    \"perceptual\": results[\"perceptual\"].mean().round(4),\n",
    "}\n",
    "\n",
    "means"
   ]
  }
 ],
 "metadata": {
  "kernelspec": {
   "display_name": "cordial",
   "language": "python",
   "name": "python3"
  },
  "language_info": {
   "codemirror_mode": {
    "name": "ipython",
    "version": 3
   },
   "file_extension": ".py",
   "mimetype": "text/x-python",
   "name": "python",
   "nbconvert_exporter": "python",
   "pygments_lexer": "ipython3",
   "version": "3.8.18"
  }
 },
 "nbformat": 4,
 "nbformat_minor": 2
}
